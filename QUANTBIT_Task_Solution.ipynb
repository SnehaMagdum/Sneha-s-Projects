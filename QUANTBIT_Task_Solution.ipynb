{
  "nbformat": 4,
  "nbformat_minor": 0,
  "metadata": {
    "colab": {
      "provenance": []
    },
    "kernelspec": {
      "name": "python3",
      "display_name": "Python 3"
    },
    "language_info": {
      "name": "python"
    }
  },
  "cells": [
    {
      "cell_type": "code",
      "source": [
        "def find_missing_number(arr: list) -> int:\n",
        "    n = len(arr)\n",
        "    total_sum = n * (n + 1) // 2  # Sum of 0 to n\n",
        "    actual_sum = sum(arr)\n",
        "    return total_sum - actual_sum\n",
        "\n",
        "def main():\n",
        "    arr = [0, 1, 3, 4, 5]\n",
        "    missing_number = find_missing_number(arr)\n",
        "    print(f\"The missing number is: {missing_number}\")\n",
        "\n",
        "if __name__ == \"__main__\":\n",
        "   main()"
      ],
      "metadata": {
        "colab": {
          "base_uri": "https://localhost:8080/"
        },
        "id": "Ycpxlf8Yb9gR",
        "outputId": "76b3b637-4c1f-4a17-e6b0-7c5f33eaae65"
      },
      "execution_count": 46,
      "outputs": [
        {
          "output_type": "stream",
          "name": "stdout",
          "text": [
            "The missing number is: 2\n"
          ]
        }
      ]
    },
    {
      "cell_type": "code",
      "source": [
        "def first_unique_char(s: str) -> str:\n",
        "      l = len(s)\n",
        "      flag = 0\n",
        "      for i in range(l):\n",
        "        flag = 0\n",
        "        for j in range(l):\n",
        "            if s[i] == s[j] and i != j:\n",
        "                flag = 1\n",
        "                break\n",
        "        if flag == 0:\n",
        "            print(\"First non-repeating character is :\", s[i])\n",
        "            break\n",
        "\n",
        "      if flag == 1:\n",
        "        print(\"No non-repeating character\")\n",
        "\n",
        "def main():\n",
        "    s = \"swwimss\"\n",
        "    print(first_unique_char(s))\n",
        "\n",
        "\n",
        "if __name__ == \"__main__\":\n",
        "    main()"
      ],
      "metadata": {
        "colab": {
          "base_uri": "https://localhost:8080/"
        },
        "id": "V2HmAW-LftwO",
        "outputId": "43f3ff45-e7e3-45d4-c0ea-138c7a1bbe17"
      },
      "execution_count": 48,
      "outputs": [
        {
          "output_type": "stream",
          "name": "stdout",
          "text": [
            "First non-repeating character is : i\n",
            "None\n"
          ]
        }
      ]
    },
    {
      "cell_type": "code",
      "source": [
        "def find_kth_largest(nums: list, k: int) -> int:\n",
        "        nums.sort()\n",
        "        n = len(nums)\n",
        "\n",
        "\n",
        "        print(\n",
        "            f\"kth Largest element {nums[n - k]}, kth Smallest element {nums[k - 1]}\")\n",
        "\n",
        "def main():\n",
        "    nums = [3, 2, 1, 5, 6, 4]\n",
        "    k = 2\n",
        "    print(find_kth_largest(nums, k))\n",
        "\n",
        "\n",
        "if __name__ == \"__main__\":\n",
        "    main()\n",
        ""
      ],
      "metadata": {
        "colab": {
          "base_uri": "https://localhost:8080/"
        },
        "id": "jQ0ooFjjftzv",
        "outputId": "a39dce0d-0366-4685-e6ac-6f1e2f288736"
      },
      "execution_count": 49,
      "outputs": [
        {
          "output_type": "stream",
          "name": "stdout",
          "text": [
            "kth Largest element 5, kth Smallest element 2\n",
            "None\n"
          ]
        }
      ]
    }
  ]
}